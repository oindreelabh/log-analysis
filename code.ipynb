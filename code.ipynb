{
  "cells": [
    {
      "cell_type": "markdown",
      "metadata": {
        "id": "F9lF7afc-CXl"
      },
      "source": [
        "# Team Members\n",
        "\n",
        "| Name | Contribution |\n",
        "|------|--------------|\n",
        "| Oindreela Bhowmick |  100% |\n",
        "| Vaibhav Mehta | 100% |\n",
        "| Thirumurugan R | 100% |"
      ]
    },
    {
      "cell_type": "code",
      "execution_count": 46,
      "metadata": {
        "colab": {
          "base_uri": "https://localhost:8080/"
        },
        "id": "p1zxuoCI0AUb",
        "outputId": "04bd09b1-58d0-4cf4-8056-dc4f2d789510"
      },
      "outputs": [
        {
          "name": "stdout",
          "output_type": "stream",
          "text": [
            "Drive already mounted at /content/drive; to attempt to forcibly remount, call drive.mount(\"/content/drive\", force_remount=True).\n"
          ]
        }
      ],
      "source": [
        "from google.colab import drive\n",
        "drive.mount(\"/content/drive\")"
      ]
    },
    {
      "cell_type": "code",
      "execution_count": 47,
      "metadata": {
        "colab": {
          "base_uri": "https://localhost:8080/"
        },
        "id": "IYA5-kG0LxyT",
        "outputId": "83c64019-0959-4993-9c60-9e3e105e3d1c"
      },
      "outputs": [
        {
          "name": "stdout",
          "output_type": "stream",
          "text": [
            "3.11.11 (main, Dec  4 2024, 08:55:07) [GCC 11.4.0]\n"
          ]
        }
      ],
      "source": [
        "import sys\n",
        "print(sys.version)"
      ]
    },
    {
      "cell_type": "code",
      "execution_count": 48,
      "metadata": {
        "colab": {
          "base_uri": "https://localhost:8080/"
        },
        "id": "LVTKpHlnLyHH",
        "outputId": "00c11942-3b0c-4223-a1fe-2b67c902ab64"
      },
      "outputs": [
        {
          "name": "stdout",
          "output_type": "stream",
          "text": [
            "3.5.5\n"
          ]
        }
      ],
      "source": [
        "import pyspark\n",
        "print(pyspark.__version__)"
      ]
    },
    {
      "cell_type": "code",
      "execution_count": 49,
      "metadata": {
        "id": "n_DfKC9ds0Zv"
      },
      "outputs": [],
      "source": [
        "from pyspark.sql import SparkSession\n",
        "from pyspark.sql.types import StructType, StructField, StringType, IntegerType, TimestampType\n",
        "from pyspark.sql.functions import *"
      ]
    },
    {
      "cell_type": "code",
      "execution_count": 50,
      "metadata": {
        "id": "LlB0Y8q0s5sp"
      },
      "outputs": [],
      "source": [
        "#creating a sparksession\n",
        "spark = SparkSession.builder \\\n",
        "    .master(\"local[*]\") \\\n",
        "    .appName(\"LoadDriveData\") \\\n",
        "    .getOrCreate()"
      ]
    },
    {
      "cell_type": "code",
      "execution_count": 51,
      "metadata": {
        "id": "2WZsKg6jx-JX"
      },
      "outputs": [],
      "source": [
        "#defining schema of the files\n",
        "#since date column has a space in between, reading it as 2 columns date and timezone\n",
        "schema = StructType([\n",
        "    StructField(\"remotehost\", StringType(), True),\n",
        "    StructField(\"rfc931\", StringType(), True),\n",
        "    StructField(\"authuser\", StringType(), True),\n",
        "    StructField(\"date\", StringType(), True),\n",
        "    StructField(\"timezone\", StringType(), True),\n",
        "    StructField(\"request\", StringType(), True),\n",
        "    StructField(\"status\", IntegerType(), True),\n",
        "    StructField(\"bytes\", IntegerType(), True)\n",
        "])"
      ]
    },
    {
      "cell_type": "code",
      "execution_count": 52,
      "metadata": {
        "id": "3DrOQURptHrO"
      },
      "outputs": [],
      "source": [
        "file_path_jul = \"/content/drive/My Drive/BDS_Assignment/Access_log_Jul1995.gz\"\n",
        "file_path_aug = \"/content/drive/My Drive/BDS_Assignment/Aaccess_log_Aug1995.gz\"\n",
        "\n",
        "df_jul = spark.read.format(\"csv\").option(\"delimiter\", \" \").schema(schema).load(file_path_jul)\n",
        "df_aug = spark.read.format(\"csv\").option(\"delimiter\", \" \").schema(schema).load(file_path_aug)"
      ]
    },
    {
      "cell_type": "markdown",
      "metadata": {
        "id": "eo-FFOeTZBAg"
      },
      "source": [
        "### 2. Data Wrangling"
      ]
    },
    {
      "cell_type": "markdown",
      "metadata": {
        "id": "VpjD1UFMaD8m"
      },
      "source": [
        "Issues -\n",
        "1. Found malformed records in july logs, so dropped it to not affect our query results.\n",
        "2. Since the delimiter of the files is space, the date column was split into 2 colums - date and timezone, due to having space between them.\n",
        "Solution - we define a custom schema which reads the date column as 2 columns date and timezone, we drop the timezone column as provided in problem statement, and remove the extra [ present in the date column for further processing.\n",
        "3. No valid data present in 2 columns, rfc931 and authuser.\n",
        "Solution - dropping the columns to optimize query processing time.\n",
        "4. Given data has duplicate records.\n",
        "Solution - applying dropDuplicates to reduce query processing time.\n",
        "\n",
        "\n",
        "\n"
      ]
    },
    {
      "cell_type": "code",
      "execution_count": 53,
      "metadata": {
        "colab": {
          "base_uri": "https://localhost:8080/"
        },
        "id": "Gl049hMGtl9f",
        "outputId": "786dc878-1511-4351-91c6-2cdeb02573e8"
      },
      "outputs": [
        {
          "name": "stdout",
          "output_type": "stream",
          "text": [
            "July Count - 1891715\n",
            "August Count - 1569898\n"
          ]
        }
      ],
      "source": [
        "print(f\"July Count - {df_jul.count()}\")\n",
        "print(f\"August Count - {df_aug.count()}\")"
      ]
    },
    {
      "cell_type": "code",
      "execution_count": 54,
      "metadata": {
        "id": "HeFpZs6VX6F9"
      },
      "outputs": [],
      "source": [
        "log_data = df_jul.union(df_aug)"
      ]
    },
    {
      "cell_type": "code",
      "execution_count": 55,
      "metadata": {
        "colab": {
          "base_uri": "https://localhost:8080/"
        },
        "id": "wBgxooPXX_7J",
        "outputId": "387d1cc5-38d3-4f29-a0fa-fa0b7374faf7"
      },
      "outputs": [
        {
          "data": {
            "text/plain": [
              "3461613"
            ]
          },
          "execution_count": 55,
          "metadata": {},
          "output_type": "execute_result"
        }
      ],
      "source": [
        "log_data.count()"
      ]
    },
    {
      "cell_type": "code",
      "execution_count": 56,
      "metadata": {
        "colab": {
          "base_uri": "https://localhost:8080/"
        },
        "id": "ziGuGd5Wtqex",
        "outputId": "192131eb-6c50-4cd1-8264-4a793dd13987"
      },
      "outputs": [
        {
          "name": "stdout",
          "output_type": "stream",
          "text": [
            "root\n",
            " |-- remotehost: string (nullable = true)\n",
            " |-- rfc931: string (nullable = true)\n",
            " |-- authuser: string (nullable = true)\n",
            " |-- date: string (nullable = true)\n",
            " |-- timezone: string (nullable = true)\n",
            " |-- request: string (nullable = true)\n",
            " |-- status: integer (nullable = true)\n",
            " |-- bytes: integer (nullable = true)\n",
            "\n"
          ]
        }
      ],
      "source": [
        "log_data.printSchema()"
      ]
    },
    {
      "cell_type": "code",
      "execution_count": 57,
      "metadata": {
        "colab": {
          "base_uri": "https://localhost:8080/"
        },
        "id": "Ir5X8el0ts_P",
        "outputId": "77f6c0ed-ce1f-487a-d3c1-d81d1f3bd964"
      },
      "outputs": [
        {
          "name": "stdout",
          "output_type": "stream",
          "text": [
            "+--------------------+------+--------+---------------------+--------+------------------------------------------------------------+------+-----+\n",
            "|remotehost          |rfc931|authuser|date                 |timezone|request                                                     |status|bytes|\n",
            "+--------------------+------+--------+---------------------+--------+------------------------------------------------------------+------+-----+\n",
            "|199.72.81.55        |-     |-       |[01/Jul/1995:00:00:01|-0400]  |GET /history/apollo/ HTTP/1.0                               |200   |6245 |\n",
            "|unicomp6.unicomp.net|-     |-       |[01/Jul/1995:00:00:06|-0400]  |GET /shuttle/countdown/ HTTP/1.0                            |200   |3985 |\n",
            "|199.120.110.21      |-     |-       |[01/Jul/1995:00:00:09|-0400]  |GET /shuttle/missions/sts-73/mission-sts-73.html HTTP/1.0   |200   |4085 |\n",
            "|burger.letters.com  |-     |-       |[01/Jul/1995:00:00:11|-0400]  |GET /shuttle/countdown/liftoff.html HTTP/1.0                |304   |0    |\n",
            "|199.120.110.21      |-     |-       |[01/Jul/1995:00:00:11|-0400]  |GET /shuttle/missions/sts-73/sts-73-patch-small.gif HTTP/1.0|200   |4179 |\n",
            "+--------------------+------+--------+---------------------+--------+------------------------------------------------------------+------+-----+\n",
            "only showing top 5 rows\n",
            "\n"
          ]
        }
      ],
      "source": [
        "log_data.show(5,0)"
      ]
    },
    {
      "cell_type": "markdown",
      "metadata": {
        "id": "c4COJoOKYQF0"
      },
      "source": [
        "To check if all the records have unavailable information for rfc931 and authuser"
      ]
    },
    {
      "cell_type": "code",
      "execution_count": 58,
      "metadata": {
        "colab": {
          "base_uri": "https://localhost:8080/"
        },
        "id": "CsGo9xAPA4uO",
        "outputId": "f6a49ca5-49ec-42a7-adb2-a6dea7cb65b3"
      },
      "outputs": [
        {
          "name": "stdout",
          "output_type": "stream",
          "text": [
            "+----------+------+--------+----+--------+-------+------+-----+\n",
            "|remotehost|rfc931|authuser|date|timezone|request|status|bytes|\n",
            "+----------+------+--------+----+--------+-------+------+-----+\n",
            "+----------+------+--------+----+--------+-------+------+-----+\n",
            "\n"
          ]
        }
      ],
      "source": [
        "log_data.filter(\"trim(rfc931) != '-'\").show(10,0)"
      ]
    },
    {
      "cell_type": "code",
      "execution_count": 59,
      "metadata": {
        "colab": {
          "base_uri": "https://localhost:8080/"
        },
        "id": "wx1bk-RJBIfU",
        "outputId": "108bd434-7926-4fd6-9ee3-5d4ba0317a0d"
      },
      "outputs": [
        {
          "name": "stdout",
          "output_type": "stream",
          "text": [
            "+----------+------+--------+----+--------+-------+------+-----+\n",
            "|remotehost|rfc931|authuser|date|timezone|request|status|bytes|\n",
            "+----------+------+--------+----+--------+-------+------+-----+\n",
            "+----------+------+--------+----+--------+-------+------+-----+\n",
            "\n"
          ]
        }
      ],
      "source": [
        "log_data.filter(\"trim(authuser) != '-'\").show(10,0)"
      ]
    },
    {
      "cell_type": "markdown",
      "metadata": {
        "id": "rqiSvAU9_j5M"
      },
      "source": [
        "we do not have authuser or rfc931 information available in given log data, so dropping these columns."
      ]
    },
    {
      "cell_type": "code",
      "execution_count": 60,
      "metadata": {
        "id": "Ho0n4EzVYkTj"
      },
      "outputs": [],
      "source": [
        "log_data = log_data.drop(\"rfc931\",\"authuser\")"
      ]
    },
    {
      "cell_type": "markdown",
      "metadata": {
        "id": "0z_5zpdNcdkt"
      },
      "source": [
        "Checking duplicate records in data"
      ]
    },
    {
      "cell_type": "code",
      "execution_count": 61,
      "metadata": {
        "colab": {
          "base_uri": "https://localhost:8080/"
        },
        "id": "94w4Ds-gzWSB",
        "outputId": "a8ebf39c-8e5a-417b-e178-7de75f4328c2"
      },
      "outputs": [
        {
          "data": {
            "text/plain": [
              "False"
            ]
          },
          "execution_count": 61,
          "metadata": {},
          "output_type": "execute_result"
        }
      ],
      "source": [
        "log_data.count() == log_data.dropDuplicates().count()"
      ]
    },
    {
      "cell_type": "code",
      "execution_count": 62,
      "metadata": {
        "id": "zNeMv5cBz37Y"
      },
      "outputs": [],
      "source": [
        "log_data = log_data.dropDuplicates()"
      ]
    },
    {
      "cell_type": "code",
      "execution_count": 63,
      "metadata": {
        "colab": {
          "base_uri": "https://localhost:8080/"
        },
        "id": "1n4lY2RLfU5t",
        "outputId": "6da02a5f-3363-4113-a414-618b7ed2c811"
      },
      "outputs": [
        {
          "data": {
            "text/plain": [
              "3460246"
            ]
          },
          "execution_count": 63,
          "metadata": {},
          "output_type": "execute_result"
        }
      ],
      "source": [
        "log_data.count()"
      ]
    },
    {
      "cell_type": "markdown",
      "metadata": {
        "id": "1Erprqwmcgwy"
      },
      "source": [
        "Parsing date column"
      ]
    },
    {
      "cell_type": "code",
      "execution_count": 64,
      "metadata": {
        "id": "osutS3EQzP7-"
      },
      "outputs": [],
      "source": [
        "# dropping the timezone column as given in question\n",
        "log_data = log_data.drop(\"timezone\")"
      ]
    },
    {
      "cell_type": "code",
      "execution_count": 65,
      "metadata": {
        "id": "EvBDS9IlA0BY"
      },
      "outputs": [],
      "source": [
        "# remove the [ from the date column\n",
        "log_data = log_data.withColumn(\"date\", regexp_replace(\"date\", \"\\\\[\", \"\"))"
      ]
    },
    {
      "cell_type": "code",
      "execution_count": 66,
      "metadata": {
        "colab": {
          "base_uri": "https://localhost:8080/"
        },
        "id": "NuImiU5nBde7",
        "outputId": "26f6cbce-bbf7-48d6-90a5-20d7214cfa26"
      },
      "outputs": [
        {
          "name": "stdout",
          "output_type": "stream",
          "text": [
            "+--------------------+\n",
            "|date                |\n",
            "+--------------------+\n",
            "|01/Jul/1995:00:02:57|\n",
            "|01/Jul/1995:00:03:33|\n",
            "|01/Jul/1995:00:07:30|\n",
            "|01/Jul/1995:00:07:36|\n",
            "|01/Jul/1995:00:09:18|\n",
            "|01/Jul/1995:00:10:04|\n",
            "|01/Jul/1995:00:11:32|\n",
            "|01/Jul/1995:00:11:40|\n",
            "|01/Jul/1995:00:17:52|\n",
            "|01/Jul/1995:00:22:32|\n",
            "+--------------------+\n",
            "only showing top 10 rows\n",
            "\n"
          ]
        }
      ],
      "source": [
        "log_data.select(\"date\").show(10,0)"
      ]
    },
    {
      "cell_type": "code",
      "execution_count": 67,
      "metadata": {
        "id": "TYj-E_wSBfUA"
      },
      "outputs": [],
      "source": [
        "#convert the date column to datetype or timestamptype\n",
        "log_data = log_data.withColumn(\"date2\", to_timestamp(\"date\", \"dd/MMM/yyyy:HH:mm:ss\"))"
      ]
    },
    {
      "cell_type": "code",
      "execution_count": 68,
      "metadata": {
        "colab": {
          "base_uri": "https://localhost:8080/"
        },
        "id": "KzXoGpcgCGZC",
        "outputId": "1d9bc062-8db2-44b8-8dc8-d787a999d7e7"
      },
      "outputs": [
        {
          "name": "stdout",
          "output_type": "stream",
          "text": [
            "+------------------------+--------------------+----------------------------------------------------------------+------+-----+-------------------+\n",
            "|remotehost              |date                |request                                                         |status|bytes|date2              |\n",
            "+------------------------+--------------------+----------------------------------------------------------------+------+-----+-------------------+\n",
            "|waters-gw.starway.net.au|01/Jul/1995:00:02:57|GET /shuttle/missions/51-l/images/ HTTP/1.0                     |200   |1038 |1995-07-01 00:02:57|\n",
            "|midcom.com              |01/Jul/1995:00:03:33|GET /history/apollo/apollo-13/apollo-13-patch-small.gif HTTP/1.0|200   |12859|1995-07-01 00:03:33|\n",
            "|asp.erinet.com          |01/Jul/1995:00:07:30|GET /images/KSC-logosmall.gif HTTP/1.0                          |200   |1204 |1995-07-01 00:07:30|\n",
            "|teleman.pr.mcs.net      |01/Jul/1995:00:07:36|GET /shuttle/missions/sts-71/images/images.html HTTP/1.0        |200   |7634 |1995-07-01 00:07:36|\n",
            "|wwwproxy.info.au        |01/Jul/1995:00:09:18|GET /software/winvn/winvn.html HTTP/1.0                         |200   |9867 |1995-07-01 00:09:18|\n",
            "|129.188.154.200         |01/Jul/1995:00:10:04|GET /shuttle/missions/sts-71/movies/ HTTP/1.0                   |200   |3090 |1995-07-01 00:10:04|\n",
            "|pipe6.nyc.pipeline.com  |01/Jul/1995:00:11:32|GET /shuttle/missions/sts-71/movies/movies.html HTTP/1.0        |200   |3092 |1995-07-01 00:11:32|\n",
            "|ppp3_136.bekkoame.or.jp |01/Jul/1995:00:11:40|GET /images/NASA-logosmall.gif HTTP/1.0                         |200   |786  |1995-07-01 00:11:40|\n",
            "|129.193.116.41          |01/Jul/1995:00:17:52|GET /images/NASA-logosmall.gif HTTP/1.0                         |200   |786  |1995-07-01 00:17:52|\n",
            "|129.59.205.2            |01/Jul/1995:00:22:32|GET /shuttle/missions/sts-71/images/KSC-95EC-0904.jpg HTTP/1.0  |200   |55569|1995-07-01 00:22:32|\n",
            "+------------------------+--------------------+----------------------------------------------------------------+------+-----+-------------------+\n",
            "only showing top 10 rows\n",
            "\n"
          ]
        }
      ],
      "source": [
        "log_data.show(10,0)"
      ]
    },
    {
      "cell_type": "code",
      "execution_count": 69,
      "metadata": {
        "colab": {
          "base_uri": "https://localhost:8080/"
        },
        "id": "1avpFdX9CIFi",
        "outputId": "155c485c-7b4e-4379-cba6-0c152284127f"
      },
      "outputs": [
        {
          "name": "stdout",
          "output_type": "stream",
          "text": [
            "+----------+----+-------+------+-----+-----+\n",
            "|remotehost|date|request|status|bytes|date2|\n",
            "+----------+----+-------+------+-----+-----+\n",
            "+----------+----+-------+------+-----+-----+\n",
            "\n"
          ]
        }
      ],
      "source": [
        "#to check whether any valid date has not been converted properly\n",
        "log_data.filter(\"date is not null and date2 is null\").show(10,0)"
      ]
    },
    {
      "cell_type": "markdown",
      "metadata": {
        "id": "be6VA5SBdAYd"
      },
      "source": [
        "checking if there are malformed/null records"
      ]
    },
    {
      "cell_type": "code",
      "execution_count": 70,
      "metadata": {
        "colab": {
          "base_uri": "https://localhost:8080/"
        },
        "id": "Sfgb7BvUc9pi",
        "outputId": "59bf1b16-4b6c-4380-bbb2-0dad5e50303d"
      },
      "outputs": [
        {
          "data": {
            "text/plain": [
              "1"
            ]
          },
          "execution_count": 70,
          "metadata": {},
          "output_type": "execute_result"
        }
      ],
      "source": [
        "log_data.filter(col(\"date\").isNull()).count()"
      ]
    },
    {
      "cell_type": "code",
      "execution_count": 71,
      "metadata": {
        "colab": {
          "base_uri": "https://localhost:8080/"
        },
        "id": "0DXW9zhRdhir",
        "outputId": "cb122b80-1f04-48c8-a4da-ba5356ac04a4"
      },
      "outputs": [
        {
          "data": {
            "text/plain": [
              "1"
            ]
          },
          "execution_count": 71,
          "metadata": {},
          "output_type": "execute_result"
        }
      ],
      "source": [
        "log_data.filter((col(\"date\").isNull()) & (col(\"request\").isNull()) & (col(\"status\").isNull())).count()"
      ]
    },
    {
      "cell_type": "markdown",
      "metadata": {
        "id": "3H_qJgl0d50J"
      },
      "source": [
        "since we found a record where most of the columns are null, we can drop this record."
      ]
    },
    {
      "cell_type": "code",
      "execution_count": 72,
      "metadata": {
        "id": "QpWliWPOd2L8"
      },
      "outputs": [],
      "source": [
        "log_data = log_data.filter(col(\"date\").isNotNull())"
      ]
    },
    {
      "cell_type": "code",
      "execution_count": 73,
      "metadata": {
        "colab": {
          "base_uri": "https://localhost:8080/"
        },
        "id": "SUpqiHdBeTUU",
        "outputId": "c8d0095f-89fd-4f14-a09e-3ea8e1badcaf"
      },
      "outputs": [
        {
          "data": {
            "text/plain": [
              "3460245"
            ]
          },
          "execution_count": 73,
          "metadata": {},
          "output_type": "execute_result"
        }
      ],
      "source": [
        "#verifying whether only 1 record is dropped\n",
        "log_data.count()"
      ]
    },
    {
      "cell_type": "markdown",
      "metadata": {
        "id": "51zH0zrRAld_"
      },
      "source": [
        "### 3. Analytics\n",
        "#### i. Count of log records"
      ]
    },
    {
      "cell_type": "code",
      "execution_count": 74,
      "metadata": {
        "colab": {
          "base_uri": "https://localhost:8080/"
        },
        "id": "-MavBqIXCWgC",
        "outputId": "a9fad251-0aaa-4f23-90e7-14f96523d1bb"
      },
      "outputs": [
        {
          "data": {
            "text/plain": [
              "3460245"
            ]
          },
          "execution_count": 74,
          "metadata": {},
          "output_type": "execute_result"
        }
      ],
      "source": [
        "log_data.count()"
      ]
    },
    {
      "cell_type": "markdown",
      "metadata": {
        "id": "cU0XGNoxCYmW"
      },
      "source": [
        "#### ii. Count of unique hosts"
      ]
    },
    {
      "cell_type": "code",
      "execution_count": 75,
      "metadata": {
        "colab": {
          "base_uri": "https://localhost:8080/"
        },
        "id": "fwr8KOV7Cad7",
        "outputId": "13cf04e2-3bda-47ae-c297-953e1033ccab"
      },
      "outputs": [
        {
          "data": {
            "text/plain": [
              "137978"
            ]
          },
          "execution_count": 75,
          "metadata": {},
          "output_type": "execute_result"
        }
      ],
      "source": [
        "log_data.select(\"remotehost\").distinct().count()"
      ]
    },
    {
      "cell_type": "markdown",
      "metadata": {
        "id": "YbiAYXDKhIt6"
      },
      "source": [
        "#### iii. Date wise unique host counts"
      ]
    },
    {
      "cell_type": "code",
      "execution_count": 76,
      "metadata": {
        "id": "5by8dM6djVCR"
      },
      "outputs": [],
      "source": [
        "log_data = log_data.withColumn(\"date\", date_format(\"date2\", \"dd-MMM-yyyy\"))"
      ]
    },
    {
      "cell_type": "code",
      "execution_count": 77,
      "metadata": {
        "colab": {
          "base_uri": "https://localhost:8080/"
        },
        "id": "fDqP76-blWOH",
        "outputId": "cc639076-ba63-4379-ae19-7f1ad3e49913"
      },
      "outputs": [
        {
          "name": "stdout",
          "output_type": "stream",
          "text": [
            "+-----------+-------------------+\n",
            "|date       |date2              |\n",
            "+-----------+-------------------+\n",
            "|01-Jul-1995|1995-07-01 00:02:57|\n",
            "|01-Jul-1995|1995-07-01 00:03:33|\n",
            "|01-Jul-1995|1995-07-01 00:07:30|\n",
            "|01-Jul-1995|1995-07-01 00:07:36|\n",
            "|01-Jul-1995|1995-07-01 00:09:18|\n",
            "|01-Jul-1995|1995-07-01 00:10:04|\n",
            "|01-Jul-1995|1995-07-01 00:11:32|\n",
            "|01-Jul-1995|1995-07-01 00:11:40|\n",
            "|01-Jul-1995|1995-07-01 00:17:52|\n",
            "|01-Jul-1995|1995-07-01 00:22:32|\n",
            "+-----------+-------------------+\n",
            "only showing top 10 rows\n",
            "\n"
          ]
        }
      ],
      "source": [
        "log_data.select(\"date\", \"date2\").show(10,0)"
      ]
    },
    {
      "cell_type": "code",
      "execution_count": 78,
      "metadata": {
        "colab": {
          "base_uri": "https://localhost:8080/"
        },
        "id": "C7-a7yYdj0qM",
        "outputId": "ff82af90-370d-49dc-b065-d6b5c5f37467"
      },
      "outputs": [
        {
          "name": "stdout",
          "output_type": "stream",
          "text": [
            "root\n",
            " |-- remotehost: string (nullable = true)\n",
            " |-- date: string (nullable = true)\n",
            " |-- request: string (nullable = true)\n",
            " |-- status: integer (nullable = true)\n",
            " |-- bytes: integer (nullable = true)\n",
            " |-- date2: timestamp (nullable = true)\n",
            "\n"
          ]
        }
      ],
      "source": [
        "log_data.printSchema()"
      ]
    },
    {
      "cell_type": "code",
      "execution_count": 79,
      "metadata": {
        "id": "9kvJXXF_Dft7"
      },
      "outputs": [],
      "source": [
        "daily_hosts = log_data.groupBy(\"date\").agg(countDistinct(\"remotehost\").alias(\"host_count\")) \\\n",
        ".withColumn(\"date_ddMMMyyyy\", to_date(col(\"date\"), \"dd-MMM-yyyy\")) \\\n",
        ".orderBy(\"date_ddMMMyyyy\")"
      ]
    },
    {
      "cell_type": "code",
      "execution_count": 80,
      "metadata": {
        "colab": {
          "base_uri": "https://localhost:8080/"
        },
        "id": "xs05ncsWDg3e",
        "outputId": "0e418088-b7a8-496e-b8fc-eeec5314a047"
      },
      "outputs": [
        {
          "name": "stdout",
          "output_type": "stream",
          "text": [
            "+-----------+----------+\n",
            "|       date|host_count|\n",
            "+-----------+----------+\n",
            "|01-Jul-1995|      5192|\n",
            "|02-Jul-1995|      4859|\n",
            "|03-Jul-1995|      7336|\n",
            "|04-Jul-1995|      5524|\n",
            "|05-Jul-1995|      7383|\n",
            "|06-Jul-1995|      7820|\n",
            "|07-Jul-1995|      6474|\n",
            "|08-Jul-1995|      2898|\n",
            "|09-Jul-1995|      2554|\n",
            "|10-Jul-1995|      4464|\n",
            "|11-Jul-1995|      4927|\n",
            "|12-Jul-1995|      5345|\n",
            "|13-Jul-1995|      6951|\n",
            "|14-Jul-1995|      5297|\n",
            "|15-Jul-1995|      3116|\n",
            "|16-Jul-1995|      3013|\n",
            "|17-Jul-1995|      4943|\n",
            "|18-Jul-1995|      4523|\n",
            "|19-Jul-1995|      4919|\n",
            "|20-Jul-1995|      4729|\n",
            "|21-Jul-1995|      4339|\n",
            "|22-Jul-1995|      2575|\n",
            "|23-Jul-1995|      2635|\n",
            "|24-Jul-1995|      4298|\n",
            "|25-Jul-1995|      4376|\n",
            "|26-Jul-1995|      4296|\n",
            "|27-Jul-1995|      4368|\n",
            "|28-Jul-1995|      2175|\n",
            "|01-Aug-1995|      2582|\n",
            "|03-Aug-1995|      3222|\n",
            "|04-Aug-1995|      4191|\n",
            "|05-Aug-1995|      2502|\n",
            "|06-Aug-1995|      2538|\n",
            "|07-Aug-1995|      4108|\n",
            "|08-Aug-1995|      4406|\n",
            "|09-Aug-1995|      4317|\n",
            "|10-Aug-1995|      4523|\n",
            "|11-Aug-1995|      4346|\n",
            "|12-Aug-1995|      2865|\n",
            "|13-Aug-1995|      2650|\n",
            "|14-Aug-1995|      4454|\n",
            "|15-Aug-1995|      4214|\n",
            "|16-Aug-1995|      4340|\n",
            "|17-Aug-1995|      4385|\n",
            "|18-Aug-1995|      4168|\n",
            "|19-Aug-1995|      2550|\n",
            "|20-Aug-1995|      2560|\n",
            "|21-Aug-1995|      4135|\n",
            "|22-Aug-1995|      4456|\n",
            "|23-Aug-1995|      4368|\n",
            "|24-Aug-1995|      4077|\n",
            "|25-Aug-1995|      4407|\n",
            "|26-Aug-1995|      2644|\n",
            "|27-Aug-1995|      2690|\n",
            "|28-Aug-1995|      4215|\n",
            "|29-Aug-1995|      4826|\n",
            "|30-Aug-1995|      5266|\n",
            "|31-Aug-1995|      5916|\n",
            "+-----------+----------+\n",
            "\n"
          ]
        }
      ],
      "source": [
        "daily_hosts.select(\"date\", \"host_count\").show(60)"
      ]
    },
    {
      "cell_type": "markdown",
      "metadata": {
        "id": "o13-Hf1oiON1"
      },
      "source": [
        "#### iv. Average Requests per Host per Day"
      ]
    },
    {
      "cell_type": "code",
      "execution_count": 81,
      "metadata": {
        "id": "vLYrVe4HJ9-Y"
      },
      "outputs": [],
      "source": [
        "log_data = log_data.withColumn(\"dayofmonth\", dayofmonth(col(\"date2\")))"
      ]
    },
    {
      "cell_type": "code",
      "execution_count": 82,
      "metadata": {
        "colab": {
          "base_uri": "https://localhost:8080/"
        },
        "id": "VkS411Krmwmd",
        "outputId": "5cf63d9c-4e33-4963-c788-aa029195ecd6"
      },
      "outputs": [
        {
          "name": "stdout",
          "output_type": "stream",
          "text": [
            "+-------------------+----------+\n",
            "|date2              |dayofmonth|\n",
            "+-------------------+----------+\n",
            "|1995-07-01 00:02:57|1         |\n",
            "|1995-07-01 00:03:33|1         |\n",
            "|1995-07-01 00:07:30|1         |\n",
            "|1995-07-01 00:07:36|1         |\n",
            "|1995-07-01 00:09:18|1         |\n",
            "|1995-07-01 00:10:04|1         |\n",
            "|1995-07-01 00:11:32|1         |\n",
            "|1995-07-01 00:11:40|1         |\n",
            "|1995-07-01 00:17:52|1         |\n",
            "|1995-07-01 00:22:32|1         |\n",
            "+-------------------+----------+\n",
            "only showing top 10 rows\n",
            "\n"
          ]
        }
      ],
      "source": [
        "log_data.select(\"date2\", \"dayofmonth\").show(10,0)"
      ]
    },
    {
      "cell_type": "code",
      "execution_count": 83,
      "metadata": {
        "id": "xwStbEJPJ-Xw"
      },
      "outputs": [],
      "source": [
        "requests_per_host_per_day = log_data.groupBy(\"dayofmonth\").agg(\n",
        "    count(\"request\").alias(\"total_requests\"),\n",
        "    countDistinct(\"remotehost\").alias(\"total_hosts\")\n",
        ").withColumn(\"avg_requests_per_host\", col(\"total_requests\") / col(\"total_hosts\"))"
      ]
    },
    {
      "cell_type": "code",
      "execution_count": 84,
      "metadata": {
        "id": "f4NTc0zBJ_FD"
      },
      "outputs": [],
      "source": [
        "requests_per_host_per_day = requests_per_host_per_day.orderBy(\"dayofmonth\")"
      ]
    },
    {
      "cell_type": "code",
      "execution_count": 85,
      "metadata": {
        "colab": {
          "base_uri": "https://localhost:8080/"
        },
        "id": "LbKWdz1hJ_q-",
        "outputId": "205420eb-2d38-4773-b533-6b94c262ba59"
      },
      "outputs": [
        {
          "name": "stdout",
          "output_type": "stream",
          "text": [
            "+----------+---------------------+\n",
            "|dayofmonth|avg_requests_per_host|\n",
            "+----------+---------------------+\n",
            "|1         |12.960341431385423   |\n",
            "|2         |12.399053303148795   |\n",
            "|3         |12.777723545490042   |\n",
            "|4         |13.803929899097186   |\n",
            "|5         |13.111468270427208   |\n",
            "|6         |13.149112426035503   |\n",
            "|7         |14.375969763278297   |\n",
            "|8         |13.909793452297317   |\n",
            "|9         |14.275995822765926   |\n",
            "|10        |15.705248359887536   |\n",
            "|11        |16.106119199272065   |\n",
            "|12        |16.03341112885395    |\n",
            "|13        |17.822921019640617   |\n",
            "|14        |15.464654061022776   |\n",
            "|15        |14.63315103071098    |\n",
            "|16        |14.624300111982082   |\n",
            "|17        |15.142017186793305   |\n",
            "|18        |14.571238509917755   |\n",
            "|19        |14.465010351966873   |\n",
            "|20        |14.053985302430752   |\n",
            "|21        |14.93733681462141    |\n",
            "|22        |13.615373352855052   |\n",
            "|23        |14.291256429096252   |\n",
            "|24        |14.682344064386317   |\n",
            "|25        |14.388222595346607   |\n",
            "|26        |13.409906569776064   |\n",
            "|27        |13.795969037534686   |\n",
            "|28        |13.551197899573351   |\n",
            "|29        |14.080605055946954   |\n",
            "|30        |15.309342954804405   |\n",
            "|31        |15.229377958079784   |\n",
            "+----------+---------------------+\n",
            "\n"
          ]
        }
      ],
      "source": [
        "requests_per_host_per_day.select(\"dayofmonth\", \"avg_requests_per_host\").show(40, 0)"
      ]
    },
    {
      "cell_type": "markdown",
      "metadata": {
        "id": "XiqMu9XVnmOf"
      },
      "source": [
        "#### v. Number of 404 Response Codes"
      ]
    },
    {
      "cell_type": "code",
      "execution_count": 86,
      "metadata": {
        "id": "u9PFBtkyK24G"
      },
      "outputs": [],
      "source": [
        "not_found_responses = log_data.filter(col(\"status\") == 404)"
      ]
    },
    {
      "cell_type": "code",
      "execution_count": 87,
      "metadata": {
        "id": "HM1UD0gGK3YG"
      },
      "outputs": [],
      "source": [
        "num_not_found = not_found_responses.count()"
      ]
    },
    {
      "cell_type": "code",
      "execution_count": 88,
      "metadata": {
        "colab": {
          "base_uri": "https://localhost:8080/"
        },
        "id": "KO8e1eDnK3o4",
        "outputId": "64b5bf72-eff4-4346-9afe-aa08ef1b8678"
      },
      "outputs": [
        {
          "name": "stdout",
          "output_type": "stream",
          "text": [
            "Number of 404 responses: 20804\n"
          ]
        }
      ],
      "source": [
        "print(f\"Number of 404 responses: {num_not_found}\")"
      ]
    },
    {
      "cell_type": "markdown",
      "metadata": {
        "id": "Jj-QXRT5oWKL"
      },
      "source": [
        "#### vi. Top 15 Endpoints with 404 Responses"
      ]
    },
    {
      "cell_type": "markdown",
      "metadata": {
        "id": "3hEZ7IpCIaXG"
      },
      "source": [
        " - We did some analysis on request column to extract the endpoint.\n",
        " - After analyzing, we came to the conclusion that endpoint3 is the best indicator of the actual endpoint value.\n",
        " - We will proceed with endpoint3 and use it to solve the given problem."
      ]
    },
    {
      "cell_type": "code",
      "execution_count": 89,
      "metadata": {
        "id": "8XZUkrRcLIka"
      },
      "outputs": [],
      "source": [
        "not_found_endpoints = not_found_responses.withColumn(\n",
        "    \"endpoint\",\n",
        "    regexp_extract(col(\"request\"), \"^[A-Z]+\\\\s+([^\\\\s]+)\\\\s+HTTP\", 1)\n",
        ").withColumn(\"endpoint2\", split(col(\"request\"), \" \").getItem(1))"
      ]
    },
    {
      "cell_type": "code",
      "execution_count": 90,
      "metadata": {
        "colab": {
          "base_uri": "https://localhost:8080/"
        },
        "id": "bi1rGnSfpAc6",
        "outputId": "1b2d7a98-43ae-4e0f-9282-c2a465e033b3"
      },
      "outputs": [
        {
          "name": "stdout",
          "output_type": "stream",
          "text": [
            "+--------------------------------------------------------------+-------------------------------------------------+-------------------------------------------------+\n",
            "|request                                                       |endpoint                                         |endpoint2                                        |\n",
            "+--------------------------------------------------------------+-------------------------------------------------+-------------------------------------------------+\n",
            "|GET /cgi-bin/imagemap/~tfish/oregon.map?445,139 HTTP/1.0      |/cgi-bin/imagemap/~tfish/oregon.map?445,139      |/cgi-bin/imagemap/~tfish/oregon.map?445,139      |\n",
            "|GET /shutle/missions/sts-71/mission-sts-71.html HTTP/1.0      |/shutle/missions/sts-71/mission-sts-71.html      |/shutle/missions/sts-71/mission-sts-71.html      |\n",
            "|GET /pub/winvn/release.txt HTTP/1.0                           |/pub/winvn/release.txt                           |/pub/winvn/release.txt                           |\n",
            "|GET /history/apollo/publications/sp-350/sp-350.txt~ HTTP/1.0  |/history/apollo/publications/sp-350/sp-350.txt~  |/history/apollo/publications/sp-350/sp-350.txt~  |\n",
            "|GET /KSC.HTML HTTP/1.0                                        |/KSC.HTML                                        |/KSC.HTML                                        |\n",
            "|GET /shuttle/missions/sts-68/mission-sts-8.html HTTP/1.0      |/shuttle/missions/sts-68/mission-sts-8.html      |/shuttle/missions/sts-68/mission-sts-8.html      |\n",
            "|GET /://spacelink.msfc.nasa.gov HTTP/1.0                      |/://spacelink.msfc.nasa.gov                      |/://spacelink.msfc.nasa.gov                      |\n",
            "|GET /history/apollo/apollo-13.html HTTP/1.0                   |/history/apollo/apollo-13.html                   |/history/apollo/apollo-13.html                   |\n",
            "|GET /:/spacelink.msfc.nasa.gov HTTP/1.0                       |/:/spacelink.msfc.nasa.gov                       |/:/spacelink.msfc.nasa.gov                       |\n",
            "|GET /history/apollo/sa-1/sa-1-patch-small.gif HTTP/1.0        |/history/apollo/sa-1/sa-1-patch-small.gif        |/history/apollo/sa-1/sa-1-patch-small.gif        |\n",
            "|GET /history/apollo/sa-1/sa-1-patch-small.gif HTTP/1.0        |/history/apollo/sa-1/sa-1-patch-small.gif        |/history/apollo/sa-1/sa-1-patch-small.gif        |\n",
            "|GET /history/apollo/sa-1/news/ HTTP/1.0                       |/history/apollo/sa-1/news/                       |/history/apollo/sa-1/news/                       |\n",
            "|GET /history/apollo/pad-abort-test-1/news/ HTTP/1.0           |/history/apollo/pad-abort-test-1/news/           |/history/apollo/pad-abort-test-1/news/           |\n",
            "|GET /images/lf-logo.gif HTTP/1.0                              |/images/lf-logo.gif                              |/images/lf-logo.gif                              |\n",
            "|GET /l HTTP/1.0                                               |/l                                               |/l                                               |\n",
            "|GET /history/apollo/apollo-13.html HTTP/1.0                   |/history/apollo/apollo-13.html                   |/history/apollo/apollo-13.html                   |\n",
            "|GET /images/lf-logo.gif HTTP/1.0                              |/images/lf-logo.gif                              |/images/lf-logo.gif                              |\n",
            "|GET /shuttle/missions/sts-71/images/KSC-95EC-0916.txt HTTP/1.0|/shuttle/missions/sts-71/images/KSC-95EC-0916.txt|/shuttle/missions/sts-71/images/KSC-95EC-0916.txt|\n",
            "|GET /history/apollo/publications/sp-350/sp-350.txt~ HTTP/1.0  |/history/apollo/publications/sp-350/sp-350.txt~  |/history/apollo/publications/sp-350/sp-350.txt~  |\n",
            "|GET /history/apollo/apollo-13.html HTTP/1.0                   |/history/apollo/apollo-13.html                   |/history/apollo/apollo-13.html                   |\n",
            "+--------------------------------------------------------------+-------------------------------------------------+-------------------------------------------------+\n",
            "only showing top 20 rows\n",
            "\n"
          ]
        }
      ],
      "source": [
        "not_found_endpoints.select(\"request\", \"endpoint\", \"endpoint2\").show(20,0)"
      ]
    },
    {
      "cell_type": "code",
      "execution_count": 91,
      "metadata": {
        "id": "AgJDxTvcHpPQ"
      },
      "outputs": [],
      "source": [
        "not_found_endpoints = not_found_endpoints.withColumn(\n",
        "       \"endpoint3\",\n",
        "       regexp_replace(col(\"request\"), \"^(GET|POST)\\\\s+|\\\\s+HTTP/1.0$\", \"\")\n",
        "   )"
      ]
    },
    {
      "cell_type": "code",
      "execution_count": 92,
      "metadata": {
        "colab": {
          "base_uri": "https://localhost:8080/"
        },
        "id": "jbdKk-3appO8",
        "outputId": "19c41ecd-f1e3-4719-d460-fb64909b2fcc"
      },
      "outputs": [
        {
          "name": "stdout",
          "output_type": "stream",
          "text": [
            "+-------------------------------+---------------------------------------------------------------------------------------------------------------------------------------------------------------------------------------------------------------------------------------------------------------------------------------------------------------------------------------------+--------------------------------------------------------------------------------------+\n",
            "|endpoint                       |request                                                                                                                                                                                                                                                                                                                                      |endpoint2                                                                             |\n",
            "+-------------------------------+---------------------------------------------------------------------------------------------------------------------------------------------------------------------------------------------------------------------------------------------------------------------------------------------------------------------------------------------+--------------------------------------------------------------------------------------+\n",
            "|                               |GET /history/apollo/apollo 13/apollo-13.html HTTP/1.0                                                                                                                                                                                                                                                                                        |/history/apollo/apollo                                                                |\n",
            "|                               |GET /facilities/mila.html>Merritt Island Spaceflight Tracking and Data Network Station (MILA)</a>                                                                                                                                                                                                                                            |/facilities/mila.html>Merritt                                                         |\n",
            "|                               |GET /history/apollo/apollo- 13/apollo- 13-info.html HTTP/1.0                                                                                                                                                                                                                                                                                 |/history/apollo/apollo-                                                               |\n",
            "|                               |GET /history/apollo/apollo- 13/apollo- 13info.html HTTP/1.0                                                                                                                                                                                                                                                                                  |/history/apollo/apollo-                                                               |\n",
            "|                               |GET /history/apollo/apollo-13/apollo-13- info.html HTTP/1.0                                                                                                                                                                                                                                                                                  |/history/apollo/apollo-13/apollo-13-                                                  |\n",
            "|                               |GET /history/apollo/apollo-13/apollo-13 html HTTP/1.0                                                                                                                                                                                                                                                                                        |/history/apollo/apollo-13/apollo-13                                                   |\n",
            "|                               |GET /www.dep.state.fl.us.                                                                                                                                                                                                                                                                                                                    |/www.dep.state.fl.us.                                                                 |\n",
            "|                               |GET /shuttle/countdown/dy �?tracking%20station HTTP/1.0                                                                                                                                                                                                                                                                                      |/shuttle/countdown/dy                                                                 |\n",
            "|                               |GET /count.gif                                                                                                                                                                                                                                                                                                                               |/count.gif                                                                            |\n",
            "|                               |GET /history/apollo/apollo-13/apollo-13.html>                                                                                                                                                                                                                                                                                                |/history/apollo/apollo-13/apollo-13.html>                                             |\n",
            "|                               |GET /elv/uplink.htm>This Atlas/Centaur launch will be covered LIVE via satellite.<a/>                                                                                                                                                                                                                                                        |/elv/uplink.htm>This                                                                  |\n",
            "|                               |GET /elv/uplink.htm>This Atlas/Centaur launch will be covered LIVE via satellite.</a>                                                                                                                                                                                                                                                        |/elv/uplink.htm>This                                                                  |\n",
            "|                               |GET /persons/astronauts/i-to-l/kerwinJP.txt                                                                                                                                                                                                                                                                                                  |/persons/astronauts/i-to-l/kerwinJP.txt                                               |\n",
            "|                               |GET /software/winvn/winvn.htm                                                                                                                                                                                                                                                                                                                |/software/winvn/winvn.htm                                                             |\n",
            "|                               |GET /history/apollo/apollo-8/apollo- 8.html HTTP/1.0                                                                                                                                                                                                                                                                                         |/history/apollo/apollo-8/apollo-                                                      |\n",
            "|                               |GET /shuttle/countdown/>Shuttle Countdown</A> pages.                                                                                                                                                                                                                                                                                         |/shuttle/countdown/>Shuttle                                                           |\n",
            "|                               |GET /shuttle/missions/sts-70/woodpecker.html>                                                                                                                                                                                                                                                                                                |/shuttle/missions/sts-70/woodpecker.html>                                             |\n",
            "|/shuttle/resources/orbiters/�b�|GET /shuttle/resources/orbiters/�b�\\t\\f HTTP/1.0                                                                                                                                                                                                                                                                                             |/shuttle/resources/orbiters/�b�\\t\\f                                                   |\n",
            "|                               |GET /shuttle/missions/sts-70/sts-70 press kit,txt HTTP/1.0                                                                                                                                                                                                                                                                                   |/shuttle/missions/sts-70/sts-70                                                       |\n",
            "|                               |GET /aircraft companies HTTP/1.0                                                                                                                                                                                                                                                                                                             |/aircraft                                                                             |\n",
            "|                               |GET /history/gemini/gemini-                                                                                                                                                                                                                                                                                                                  |/history/gemini/gemini-                                                               |\n",
            "|                               |GET /facts/announce.html                                                                                                                                                                                                                                                                                                                     |/facts/announce.html                                                                  |\n",
            "|                               |GET /shuttle/missions/sts-70/mission-sts-70 html HTTP/1.0                                                                                                                                                                                                                                                                                    |/shuttle/missions/sts-70/mission-sts-70                                               |\n",
            "|                               |GET /shuttle/missions/sts-69/mission-sts-69.html>                                                                                                                                                                                                                                                                                            |/shuttle/missions/sts-69/mission-sts-69.html>                                         |\n",
            "|                               |GET /shuttle/countdown/dy �?shuttle%20tracking HTTP/1.0                                                                                                                                                                                                                                                                                      |/shuttle/countdown/dy                                                                 |\n",
            "|                               |GET /shuttle/missions/sts-69/mission-sts-69.html> STS-69</a><p>                                                                                                                                                                                                                                                                              |/shuttle/missions/sts-69/mission-sts-69.html>                                         |\n",
            "|                               |GET /history/apollo/flight summary.txt HTTP/1.0                                                                                                                                                                                                                                                                                              |/history/apollo/flight                                                                |\n",
            "|                               |GET /www.dep.state.fl.us                                                                                                                                                                                                                                                                                                                     |/www.dep.state.fl.us                                                                  |\n",
            "|                               |GET /elv/uplink2.htm>Uplink information</a> is already available for this Delta launch.                                                                                                                                                                                                                                                      |/elv/uplink2.htm>Uplink                                                               |\n",
            "|                               |GET /history/apollo/apollo 13.html HTTP/1.0                                                                                                                                                                                                                                                                                                  |/history/apollo/apollo                                                                |\n",
            "|                               |GET /shuttle/technology/sts-newsref/sts overview.html HTTP/1.0                                                                                                                                                                                                                                                                               |/shuttle/technology/sts-newsref/sts                                                   |\n",
            "|                               |GET /histroy/apollo/apollo-13/apollo-13 html HTTP/1.0                                                                                                                                                                                                                                                                                        |/histroy/apollo/apollo-13/apollo-13                                                   |\n",
            "|                               |GET /history/history Mml HTTP/1.0                                                                                                                                                                                                                                                                                                            |/history/history                                                                      |\n",
            "|                               |GET /history/apollo/apollo-8/apollo-                                                                                                                                                                                                                                                                                                         |/history/apollo/apollo-8/apollo-                                                      |\n",
            "|                               |GET /apollo 13 HTTP/1.0                                                                                                                                                                                                                                                                                                                      |/apollo                                                                               |\n",
            "|                               |GET /history/apollo/apollog 13 HTTP/1.0                                                                                                                                                                                                                                                                                                      |/history/apollo/apollog                                                               |\n",
            "|                               |GET /history/apollo/apollo-13/apollo-13 info.html HTTP/1.0                                                                                                                                                                                                                                                                                   |/history/apollo/apollo-13/apollo-13                                                   |\n",
            "|                               |GET /shuttle/missions/sts-63/sts-63-press-kit.tx                                                                                                                                                                                                                                                                                             |/shuttle/missions/sts-63/sts-63-press-kit.tx                                          |\n",
            "|                               |GET /images/hello/Hello.gif                                                                                                                                                                                                                                                                                                                  |/images/hello/Hello.gif                                                               |\n",
            "|                               |GET /people/nasa-cm/jmd.html                                                                                                                                                                                                                                                                                                                 |/people/nasa-cm/jmd.html                                                              |\n",
            "|                               |GET htbin/cdt_clock.pl                                                                                                                                                                                                                                                                                                                       |htbin/cdt_clock.pl                                                                    |\n",
            "|                               |GET /history/apollo/apollo- 13/apollo -13-info.html HTTP/1.0                                                                                                                                                                                                                                                                                 |/history/apollo/apollo-                                                               |\n",
            "|                               |GET /shuttle/resources/orbiters/atlantis.gif                                                                                                                                                                                                                                                                                                 |/shuttle/resources/orbiters/atlantis.gif                                              |\n",
            "|                               |GET /HTTP/1.0 200 OKDate: Sunday, 09-Jul-95 03:42:07 GMTServer: NCSA/1.3MIME-version: 1.0Content-type: text/htmlMIME-Version: 1.0Server: NCSA-Lycos<html HTTP/1.0                                                                                                                                                                            |/HTTP/1.0                                                                             |\n",
            "|                               |GET /shuttle/missions/sts-56/mission-sts-56.html>                                                                                                                                                                                                                                                                                            |/shuttle/missions/sts-56/mission-sts-56.html>                                         |\n",
            "|                               |HEAD /elv/uplink.htm>This Atlas/Centaur launch will be covered LIVE via satellite.</a><p>Next NASA Atlas launch will be an Atlas IIAS carrying the Solar and Heliospheric Observatory (SOHO).  Launch is scheduled for no earlier than October 31, 1995 and to date, the exact launch time has not been set.  <p></a><h2><b><a href= HTTP/1.0|/elv/uplink.htm>This                                                                  |\n",
            "|                               |GET /shuttle/missions/sts-71/movies/sts-71launch.mpg                                                                                                                                                                                                                                                                                         |/shuttle/missions/sts-71/movies/sts-71launch.mpg                                      |\n",
            "|                               |GET /saturn-mini.gif                                                                                                                                                                                                                                                                                                                         |/saturn-mini.gif                                                                      |\n",
            "|                               |GET /history/apollo/apollo-13/apollo-13html                                                                                                                                                                                                                                                                                                  |/history/apollo/apollo-13/apollo-13html                                               |\n",
            "|                               |GET /shuttle/missions/sts-71/images/KSC-95EC-0 913.jpg HTTP/1.0                                                                                                                                                                                                                                                                              |/shuttle/missions/sts-71/images/KSC-95EC-0                                            |\n",
            "|                               |GET /ksc.htlm                                                                                                                                                                                                                                                                                                                                |/ksc.htlm                                                                             |\n",
            "|                               |GET /nasa_home page.html HTTP/1.0                                                                                                                                                                                                                                                                                                            |/nasa_home                                                                            |\n",
            "|                               |GET /finger @net.com HTTP/1.0                                                                                                                                                                                                                                                                                                                |/finger                                                                               |\n",
            "|                               |GET /i                                                                                                                                                                                                                                                                                                                                       |/i                                                                                    |\n",
            "|                               |GET /shuttle/resources/orbiters/endeavour.html>                                                                                                                                                                                                                                                                                              |/shuttle/resources/orbiters/endeavour.html>                                           |\n",
            "|                               |GET /shuttle/missions/sts-65/mission-sts-65.htmlh����������|\\f\u0010\u0012|(� HTTP/1.0                                                                                                                                                                                                                                                                 |/shuttle/missions/sts-65/mission-sts-65.htmlh����������|\\f\u0010\u0012|(�                       |\n",
            "|                               |GET /history/apollo/-apollo 13 HTTP/1.0                                                                                                                                                                                                                                                                                                      |/history/apollo/-apollo                                                               |\n",
            "|                               |GET /facilities<A HREF= HTTP/1.0                                                                                                                                                                                                                                                                                                             |/facilities<A                                                                         |\n",
            "|                               |GET /images/baseball stadium HTTP/1.0                                                                                                                                                                                                                                                                                                        |/images/baseball                                                                      |\n",
            "|                               |GET /shuttle/missions/sts-70/images/images/itvsmal.jpg                                                                                                                                                                                                                                                                                       |/shuttle/missions/sts-70/images/images/itvsmal.jpg                                    |\n",
            "|                               |GET /shuttle/resources/orbiters/challenger.gif                                                                                                                                                                                                                                                                                               |/shuttle/resources/orbiters/challenger.gif                                            |\n",
            "|                               |GET /facilities/mila.htm1                                                                                                                                                                                                                                                                                                                    |/facilities/mila.htm1                                                                 |\n",
            "|                               |GET /KSC-95EC-0916.gif                                                                                                                                                                                                                                                                                                                       |/KSC-95EC-0916.gif                                                                    |\n",
            "|                               |GET /shuttle/resources/orbiters/discovery.gif                                                                                                                                                                                                                                                                                                |/shuttle/resources/orbiters/discovery.gif                                             |\n",
            "|                               |GET /elv/new01.gif>                                                                                                                                                                                                                                                                                                                          |/elv/new01.gif>                                                                       |\n",
            "|                               |GET /shuttle/missions/sts-63/sts-63-press-kit.tx t HTTP/1.0                                                                                                                                                                                                                                                                                  |/shuttle/missions/sts-63/sts-63-press-kit.tx                                          |\n",
            "|                               |GET /history/apollo/apollo-13/apollo1-.html    apollo-1 HTTP/1.0                                                                                                                                                                                                                                                                             |/history/apollo/apollo-13/apollo1-.html                                               |\n",
            "|                               |GET /shuttle/missions/sts-70/movies/Hey Beavis HTTP/1.0                                                                                                                                                                                                                                                                                      |/shuttle/missions/sts-70/movies/Hey                                                   |\n",
            "|                               |GET /images/bann04.gif                                                                                                                                                                                                                                                                                                                       |/images/bann04.gif                                                                    |\n",
            "|                               |GET /software/winvn/winvn.html>WinVN</a>, a                                                                                                                                                                                                                                                                                                  |/software/winvn/winvn.html>WinVN</a>,                                                 |\n",
            "|                               |GET /shuttle/technology/sts-newsref/http://www.ksc.nasa.gov/images/shuttle-patch-logo.gif> Table of                                                                                                                                                                                                                                          |/shuttle/technology/sts-newsref/http://www.ksc.nasa.gov/images/shuttle-patch-logo.gif>|\n",
            "|                               |GET /ksc./launch support/default.htm HTTP/1.0                                                                                                                                                                                                                                                                                                |/ksc./launch                                                                          |\n",
            "|                               |GET http://www.ksc.nasa.gov                                                                                                                                                                                                                                                                                                                  |http://www.ksc.nasa.gov                                                               |\n",
            "|                               |GET /im ages/NASA-logosmall.gif HTTP/1.0                                                                                                                                                                                                                                                                                                     |/im                                                                                   |\n",
            "|                               |GET /SHUTTLE/COUNTDOWN/        COUNTDOWN.HTML HTTP/1.0                                                                                                                                                                                                                                                                                       |/SHUTTLE/COUNTDOWN/                                                                   |\n",
            "|                               |GET /SHUTTLE/MISSIONS/        MISSIONS.HTML HTTP/1.0                                                                                                                                                                                                                                                                                         |/SHUTTLE/MISSIONS/                                                                    |\n",
            "|                               |GET /shuttle/missions/STS-69/mission-STS-69.html                                                                                                                                                                                                                                                                                             |/shuttle/missions/STS-69/mission-STS-69.html                                          |\n",
            "|                               |GET /images/b_arrow.gif                                                                                                                                                                                                                                                                                                                      |/images/b_arrow.gif                                                                   |\n",
            "|                               |GET /software/winvn/winvn.htm l HTTP/1.0                                                                                                                                                                                                                                                                                                     |/software/winvn/winvn.htm                                                             |\n",
            "|                               |GET /SHUTTLE/COUNTDOWN/ cOUNTDOWN.HTML HTTP/1.0                                                                                                                                                                                                                                                                                              |/SHUTTLE/COUNTDOWN/                                                                   |\n",
            "|                               |GET /shuttle/technology/sts-newsref/stsover-lau                                                                                                                                                                                                                                                                                              |/shuttle/technology/sts-newsref/stsover-lau                                           |\n",
            "|                               |GET /shuttle/missions/sts-71/ruthless g@aol.com HTTP/1.0                                                                                                                                                                                                                                                                                     |/shuttle/missions/sts-71/ruthless                                                     |\n",
            "|                               |GET /msfc/astro home.html HTTP/1.0                                                                                                                                                                                                                                                                                                           |/msfc/astro                                                                           |\n",
            "|                               |GET /shuttle/missions.html.                                                                                                                                                                                                                                                                                                                  |/shuttle/missions.html.                                                               |\n",
            "|                               |GET /shuttle/technology/sts-newsref/sts egress.html HTTP/1.0                                                                                                                                                                                                                                                                                 |/shuttle/technology/sts-newsref/sts                                                   |\n",
            "|                               |GET /shuttle/missions/sts-68/ksc-upclose.gif                                                                                                                                                                                                                                                                                                 |/shuttle/missions/sts-68/ksc-upclose.gif                                              |\n",
            "|                               |GET /images/KSCsmall.gif                                                                                                                                                                                                                                                                                                                     |/images/KSCsmall.gif                                                                  |\n",
            "|                               |GET /history/apollo/apollo 13/ HTTP/1.0                                                                                                                                                                                                                                                                                                      |/history/apollo/apollo                                                                |\n",
            "|                               |GET /jsc/jsc_homepage html HTTP/1.0                                                                                                                                                                                                                                                                                                          |/jsc/jsc_homepage                                                                     |\n",
            "|                               |GET /shuttle/technology/sts-newsref/sts egress. HTTP/1.0                                                                                                                                                                                                                                                                                     |/shuttle/technology/sts-newsref/sts                                                   |\n",
            "|                               |GET /shuttle/missions/sts-67/images/k95p0391.gif></a>                                                                                                                                                                                                                                                                                        |/shuttle/missions/sts-67/images/k95p0391.gif></a>                                     |\n",
            "|                               |GET /images/rainban.gif                                                                                                                                                                                                                                                                                                                      |/images/rainban.gif                                                                   |\n",
            "|                               |GET /history/apollo/apollo 13/movies/ HTTP/1.0                                                                                                                                                                                                                                                                                               |/history/apollo/apollo                                                                |\n",
            "|                               |GET /ksc.html>NASA HOME PAGE</a><br> You Gotta Love Those Space Ships                                                                                                                                                                                                                                                                        |/ksc.html>NASA                                                                        |\n",
            "|                               |GET /shuttle/countdown> The Shuttle launch countdown homepage</a><hr>                                                                                                                                                                                                                                                                        |/shuttle/countdown>                                                                   |\n",
            "|                               |GET /sts-71/launch/                                                                                                                                                                                                                                                                                                                          |/sts-71/launch/                                                                       |\n",
            "|                               |GET /shuttle/countdown/dy �?status%20report HTTP/1.0                                                                                                                                                                                                                                                                                         |/shuttle/countdown/dy                                                                 |\n",
            "|                               |GET /robots.txt HTML/1.0 headers                                                                                                                                                                                                                                                                                                             |/robots.txt                                                                           |\n",
            "+-------------------------------+---------------------------------------------------------------------------------------------------------------------------------------------------------------------------------------------------------------------------------------------------------------------------------------------------------------------------------------------+--------------------------------------------------------------------------------------+\n",
            "\n"
          ]
        }
      ],
      "source": [
        "not_found_endpoints.filter(\"endpoint != endpoint2\").select(\"endpoint\", \"request\", \"endpoint2\").distinct().show(100,0)"
      ]
    },
    {
      "cell_type": "code",
      "execution_count": 93,
      "metadata": {
        "colab": {
          "base_uri": "https://localhost:8080/"
        },
        "id": "SFf_VkmgH87o",
        "outputId": "00355253-e6b6-4edd-9674-94b593b1b353"
      },
      "outputs": [
        {
          "name": "stdout",
          "output_type": "stream",
          "text": [
            "+-----------------------------------------------------------------------------------------------------------------------------------------------------------------+--------+---------------------------------------------+----------------------------------------------------------------------------------------------------------------------------------------------------+\n",
            "|request                                                                                                                                                          |endpoint|endpoint2                                    |endpoint3                                                                                                                                           |\n",
            "+-----------------------------------------------------------------------------------------------------------------------------------------------------------------+--------+---------------------------------------------+----------------------------------------------------------------------------------------------------------------------------------------------------+\n",
            "|GET /elv/uplink.htm>This Atlas/Centaur launch will be covered LIVE via satellite.</a>                                                                            |        |/elv/uplink.htm>This                         |/elv/uplink.htm>This Atlas/Centaur launch will be covered LIVE via satellite.</a>                                                                   |\n",
            "|GET /shuttle/missions/sts-70/mission-sts-70 html HTTP/1.0                                                                                                        |        |/shuttle/missions/sts-70/mission-sts-70      |/shuttle/missions/sts-70/mission-sts-70 html                                                                                                        |\n",
            "|GET /history/apollo/flight summary.txt HTTP/1.0                                                                                                                  |        |/history/apollo/flight                       |/history/apollo/flight summary.txt                                                                                                                  |\n",
            "|GET /shuttle/missions/sts-71/images/KSC-95EC-0 913.jpg HTTP/1.0                                                                                                  |        |/shuttle/missions/sts-71/images/KSC-95EC-0   |/shuttle/missions/sts-71/images/KSC-95EC-0 913.jpg                                                                                                  |\n",
            "|GET /history/apollo/apollo- 13/apollo- 13-info.html HTTP/1.0                                                                                                     |        |/history/apollo/apollo-                      |/history/apollo/apollo- 13/apollo- 13-info.html                                                                                                     |\n",
            "|GET /shuttle/missions/sts-70/mission-sts-70 html HTTP/1.0                                                                                                        |        |/shuttle/missions/sts-70/mission-sts-70      |/shuttle/missions/sts-70/mission-sts-70 html                                                                                                        |\n",
            "|GET /shuttle/missions/sts-69/mission-sts-69.html> STS-69</a><p>                                                                                                  |        |/shuttle/missions/sts-69/mission-sts-69.html>|/shuttle/missions/sts-69/mission-sts-69.html> STS-69</a><p>                                                                                         |\n",
            "|GET /facilities<A HREF= HTTP/1.0                                                                                                                                 |        |/facilities<A                                |/facilities<A HREF=                                                                                                                                 |\n",
            "|GET /elv/uplink.htm>This Atlas/Centaur launch will be covered LIVE via satellite.</a>                                                                            |        |/elv/uplink.htm>This                         |/elv/uplink.htm>This Atlas/Centaur launch will be covered LIVE via satellite.</a>                                                                   |\n",
            "|GET /shuttle/missions/sts-69/mission-sts-69.html> STS-69</a><p>                                                                                                  |        |/shuttle/missions/sts-69/mission-sts-69.html>|/shuttle/missions/sts-69/mission-sts-69.html> STS-69</a><p>                                                                                         |\n",
            "|GET /shuttle/technology/sts-newsref/sts overview.html HTTP/1.0                                                                                                   |        |/shuttle/technology/sts-newsref/sts          |/shuttle/technology/sts-newsref/sts overview.html                                                                                                   |\n",
            "|GET /history/apollo/apollo 13.html HTTP/1.0                                                                                                                      |        |/history/apollo/apollo                       |/history/apollo/apollo 13.html                                                                                                                      |\n",
            "|GET /history/history Mml HTTP/1.0                                                                                                                                |        |/history/history                             |/history/history Mml                                                                                                                                |\n",
            "|GET /elv/uplink.htm>This Atlas/Centaur launch will be covered LIVE via satellite.</a>                                                                            |        |/elv/uplink.htm>This                         |/elv/uplink.htm>This Atlas/Centaur launch will be covered LIVE via satellite.</a>                                                                   |\n",
            "|GET /history/apollo/apollo-8/apollo- 8.html HTTP/1.0                                                                                                             |        |/history/apollo/apollo-8/apollo-             |/history/apollo/apollo-8/apollo- 8.html                                                                                                             |\n",
            "|GET /history/apollo/apollo-13/apollo-13 html HTTP/1.0                                                                                                            |        |/history/apollo/apollo-13/apollo-13          |/history/apollo/apollo-13/apollo-13 html                                                                                                            |\n",
            "|GET /HTTP/1.0 200 OKDate: Sunday, 09-Jul-95 03:42:07 GMTServer: NCSA/1.3MIME-version: 1.0Content-type: text/htmlMIME-Version: 1.0Server: NCSA-Lycos<html HTTP/1.0|        |/HTTP/1.0                                    |/HTTP/1.0 200 OKDate: Sunday, 09-Jul-95 03:42:07 GMTServer: NCSA/1.3MIME-version: 1.0Content-type: text/htmlMIME-Version: 1.0Server: NCSA-Lycos<html|\n",
            "|GET /history/apollo/apollo- 13/apollo- 13info.html HTTP/1.0                                                                                                      |        |/history/apollo/apollo-                      |/history/apollo/apollo- 13/apollo- 13info.html                                                                                                      |\n",
            "|GET /elv/uplink2.htm>Uplink information</a> is already available for this Delta launch.                                                                          |        |/elv/uplink2.htm>Uplink                      |/elv/uplink2.htm>Uplink information</a> is already available for this Delta launch.                                                                 |\n",
            "|GET /nasa_home page.html HTTP/1.0                                                                                                                                |        |/nasa_home                                   |/nasa_home page.html                                                                                                                                |\n",
            "+-----------------------------------------------------------------------------------------------------------------------------------------------------------------+--------+---------------------------------------------+----------------------------------------------------------------------------------------------------------------------------------------------------+\n",
            "only showing top 20 rows\n",
            "\n"
          ]
        }
      ],
      "source": [
        "not_found_endpoints.filter(\"endpoint2 != endpoint3\").select(\"request\", \"endpoint\", \"endpoint2\", \"endpoint3\").show(20,0)"
      ]
    },
    {
      "cell_type": "code",
      "execution_count": 94,
      "metadata": {
        "id": "9tF-o7W_LJPA"
      },
      "outputs": [],
      "source": [
        "endpoint_counts = not_found_endpoints.groupBy(\"endpoint3\").agg(\n",
        "    count(\"*\").alias(\"error_count\")\n",
        ").orderBy(col(\"error_count\").desc())"
      ]
    },
    {
      "cell_type": "code",
      "execution_count": 95,
      "metadata": {
        "colab": {
          "base_uri": "https://localhost:8080/"
        },
        "id": "oCM0pkV2LKXx",
        "outputId": "e5070190-808a-436b-c489-0950d6b3826b"
      },
      "outputs": [
        {
          "name": "stdout",
          "output_type": "stream",
          "text": [
            "+-----------------------------------------------------------------+-----------+\n",
            "|endpoint3                                                        |error_count|\n",
            "+-----------------------------------------------------------------+-----------+\n",
            "|/pub/winvn/readme.txt                                            |2003       |\n",
            "|/pub/winvn/release.txt                                           |1732       |\n",
            "|/shuttle/missions/STS-69/mission-STS-69.html                     |683        |\n",
            "|/shuttle/missions/sts-68/ksc-upclose.gif                         |428        |\n",
            "|/history/apollo/sa-1/sa-1-patch-small.gif                        |382        |\n",
            "|/history/apollo/a-001/a-001-patch-small.gif                      |382        |\n",
            "|/://spacelink.msfc.nasa.gov                                      |381        |\n",
            "|/images/crawlerway-logo.gif                                      |374        |\n",
            "|/elv/DELTA/uncons.htm                                            |372        |\n",
            "|/history/apollo/pad-abort-test-1/pad-abort-test-1-patch-small.gif|358        |\n",
            "|/images/nasa-logo.gif                                            |319        |\n",
            "|/shuttle/resources/orbiters/atlantis.gif                         |313        |\n",
            "|/history/apollo/apollo-13.html                                   |302        |\n",
            "|/shuttle/resources/orbiters/discovery.gif                        |263        |\n",
            "|/shuttle/missions/sts-71/images/KSC-95EC-0916.txt                |190        |\n",
            "+-----------------------------------------------------------------+-----------+\n",
            "only showing top 15 rows\n",
            "\n"
          ]
        }
      ],
      "source": [
        "endpoint_counts.show(15, truncate=False)"
      ]
    },
    {
      "cell_type": "markdown",
      "metadata": {
        "id": "BOvqCsQ_JXmt"
      },
      "source": [
        "#### vii. Top 15 Hosts with 404 Responses"
      ]
    },
    {
      "cell_type": "code",
      "execution_count": 96,
      "metadata": {
        "id": "dNfXzWPBLhCy"
      },
      "outputs": [],
      "source": [
        "host_error_counts = not_found_responses.groupBy(\"remotehost\").agg(\n",
        "    count(\"*\").alias(\"error_count\")\n",
        ").orderBy(col(\"error_count\").desc())"
      ]
    },
    {
      "cell_type": "code",
      "execution_count": 97,
      "metadata": {
        "colab": {
          "base_uri": "https://localhost:8080/"
        },
        "id": "D8ZjpFB8LiSu",
        "outputId": "729af1db-711d-4126-9d2c-de7d5b54c16b"
      },
      "outputs": [
        {
          "name": "stdout",
          "output_type": "stream",
          "text": [
            "+---------------------------+-----------+\n",
            "|remotehost                 |error_count|\n",
            "+---------------------------+-----------+\n",
            "|hoohoo.ncsa.uiuc.edu       |251        |\n",
            "|piweba3y.prodigy.com       |156        |\n",
            "|jbiagioni.npt.nuwc.navy.mil|132        |\n",
            "|piweba1y.prodigy.com       |114        |\n",
            "|www-d4.proxy.aol.com       |90         |\n",
            "|piweba4y.prodigy.com       |84         |\n",
            "|scooter.pa-x.dec.com       |69         |\n",
            "|www-d1.proxy.aol.com       |64         |\n",
            "|dialip-217.den.mmc.com     |62         |\n",
            "|www-b4.proxy.aol.com       |62         |\n",
            "|www-b3.proxy.aol.com       |61         |\n",
            "|www-a2.proxy.aol.com       |60         |\n",
            "|piweba2y.prodigy.com       |59         |\n",
            "|titan02f                   |59         |\n",
            "|www-d2.proxy.aol.com       |59         |\n",
            "+---------------------------+-----------+\n",
            "only showing top 15 rows\n",
            "\n"
          ]
        }
      ],
      "source": [
        "host_error_counts.show(15, 0)"
      ]
    },
    {
      "cell_type": "code",
      "execution_count": 97,
      "metadata": {
        "id": "oY27S3lsSIcE"
      },
      "outputs": [],
      "source": []
    }
  ],
  "metadata": {
    "colab": {
      "provenance": []
    },
    "kernelspec": {
      "display_name": "Python 3",
      "name": "python3"
    },
    "language_info": {
      "name": "python"
    }
  },
  "nbformat": 4,
  "nbformat_minor": 0
}
